{
 "cells": [
  {
   "cell_type": "markdown",
   "metadata": {},
   "source": [
    "# Ben's Answers\n",
    "* What are the differences between historical volatility and implied volatility?\n",
    "\n",
    "Historical Volatility is measured over a sample of time. Implied volatility is calculated from the trading price of current options.\n",
    "  * Can instantanious historical volatility be calculated?\n",
    "  \n",
    "  No historical volatility needs to be calculated overtime. Implied volatility is instantanious because it is observed in option prices\n",
    "* How can we evaluate our historical volatility estimators? \n",
    "\n",
    "Bias and efficiency\n",
    "* Write down the historical volatility calculations from ch. 2 \n",
    "\n",
    "See functions below.\n",
    "   * What estimators can we evaluate with Quandl/yahoo data sources?\n",
    "\n",
    "All estimators except First Exit Time Estimator which requires higher frequency. Calculations only require stock price's high, low, open, and close. However all can be improved by high frequency sampling (15 minutes, half hours)\n",
    "* What are some ways sampling effects historical volatility?\n",
    "\n",
    "Long sampling periods make initial data less relavent because volatility is not constant however short volatility sampling periods have significant bias.\n",
    "  * Consider the overnight variance handling method pg. 30-31\n",
    "\n",
    "This lets us consider non trading time periods (jumps) as a weighted effect based on historical observations of stock behavior\n",
    "  \n",
    "* Why is the first exit time estimator fundamentally different from the other estimators?\n",
    "\n",
    "Measuring how fast prices change not how far prices move\n",
    "  * Consider eq. (2.18)'s significance\n",
    "\n",
    "This eqaution relates gives us a set period of time to measure how far based on the average velocity of stock movements\n",
    "  \n",
    "* What are some examples of fundimental analysis which can suppliment observed changes in volatility?\n",
    "\n",
    "Earnings calls, dividends announcements, upcoming litigation, clinical trials (bio-tech)"
   ]
  },
  {
   "cell_type": "code",
   "execution_count": 1,
   "metadata": {},
   "outputs": [],
   "source": [
    "import numpy as np\n",
    "import pandas as pd\n",
    "import quandl"
   ]
  },
  {
   "cell_type": "code",
   "execution_count": 2,
   "metadata": {},
   "outputs": [],
   "source": [
    "# Close to Close Estimator\n",
    "def c2c(df):\n",
    "    return"
   ]
  },
  {
   "cell_type": "code",
   "execution_count": 3,
   "metadata": {},
   "outputs": [],
   "source": [
    "#Parkinson Estimator\n",
    "def park(df):\n",
    "    high=df['High']\n",
    "    low=df['Low']\n",
    "    return np.sqrt(1/(4*len(high)*np.log(2))*np.sum(np.power(np.log(np.divide(high,low)),2)))"
   ]
  },
  {
   "cell_type": "code",
   "execution_count": 4,
   "metadata": {},
   "outputs": [],
   "source": [
    "#Garman-Klass Estimator\n",
    "def gk():\n",
    "    return"
   ]
  },
  {
   "cell_type": "code",
   "execution_count": 5,
   "metadata": {},
   "outputs": [],
   "source": [
    "#Rodgers-Satchell-Yoon Estimator\n",
    "def rsy():\n",
    "    return"
   ]
  },
  {
   "cell_type": "code",
   "execution_count": 6,
   "metadata": {},
   "outputs": [],
   "source": [
    "#Yang-Zhang Estimator\n",
    "def yz():\n",
    "    return"
   ]
  },
  {
   "cell_type": "code",
   "execution_count": 7,
   "metadata": {},
   "outputs": [],
   "source": [
    "quandl.ApiConfig.api_key = ###############"
   ]
  },
  {
   "cell_type": "code",
   "execution_count": 8,
   "metadata": {},
   "outputs": [],
   "source": [
    "df = quandl.get('EOD/HD', start_date='2016-12-28', end_date='2017-12-28')"
   ]
  },
  {
   "cell_type": "code",
   "execution_count": 9,
   "metadata": {},
   "outputs": [
    {
     "data": {
      "text/plain": [
       "0.007595636044045017"
      ]
     },
     "execution_count": 9,
     "metadata": {},
     "output_type": "execute_result"
    }
   ],
   "source": [
    "park(df)"
   ]
  },
  {
   "cell_type": "code",
   "execution_count": null,
   "metadata": {},
   "outputs": [],
   "source": []
  }
 ],
 "metadata": {
  "kernelspec": {
   "display_name": "Python 3",
   "language": "python",
   "name": "python3"
  },
  "language_info": {
   "codemirror_mode": {
    "name": "ipython",
    "version": 3
   },
   "file_extension": ".py",
   "mimetype": "text/x-python",
   "name": "python",
   "nbconvert_exporter": "python",
   "pygments_lexer": "ipython3",
   "version": "3.7.3"
  }
 },
 "nbformat": 4,
 "nbformat_minor": 2
}
