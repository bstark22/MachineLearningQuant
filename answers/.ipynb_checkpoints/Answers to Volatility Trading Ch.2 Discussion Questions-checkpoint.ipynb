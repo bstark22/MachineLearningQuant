{
 "cells": [
  {
   "cell_type": "markdown",
   "metadata": {},
   "source": [
    "# Ben's Answers\n",
    "* What are the differences between historical volatility and implied volatility?\n",
    "\n",
    "Historical Volatility is measured over a sample of time. Implied volatility is calculated from the trading price of current options.\n",
    "  * Can instantanious historical volatility be calculated?\n",
    "  \n",
    "  No historical volatility needs to be calculated overtime. Implied volatility is instantanious because it is observed in option prices\n",
    "* How can we evaluate our historical volatility estimators? \n",
    "\n",
    "Bias and efficiency\n",
    "* Write down the historical volatility calculations from ch. 2 \n",
    "\n",
    "See functions below.\n",
    "   * What estimators can we evaluate with Quandl/yahoo data sources?\n",
    "\n",
    "All estimators except First Exit Time Estimator which requires higher frequency. Calculations only require stock price's high, low, open, and close. However all can be improved by high frequency sampling (15 minutes, half hours)\n",
    "* What are some ways sampling effects historical volatility?\n",
    "\n",
    "Long sampling periods make initial data less relavent because volatility is not constant however short volatility sampling periods have significant bias.\n",
    "  * Consider the overnight variance handling method pg. 30-31\n",
    "\n",
    "This lets us consider non trading time periods (jumps) as a weighted effect based on historical observations of stock behavior\n",
    "  \n",
    "* Why is the first exit time estimator fundamentally different from the other estimators?\n",
    "\n",
    "Measuring how fast prices change not how far prices move\n",
    "  * Consider eq. (2.18)'s significance\n",
    "\n",
    "This eqaution relates gives us a set period of time to measure how far based on the average velocity of stock movements\n",
    "  \n",
    "* What are some examples of fundimental analysis which can suppliment observed changes in volatility?\n",
    "\n",
    "Earnings calls, dividends announcements, upcoming litigation, clinical trials (bio-tech)"
   ]
  },
  {
   "cell_type": "code",
   "execution_count": 1,
   "metadata": {},
   "outputs": [],
   "source": [
    "import numpy as np\n",
    "import pandas as pd\n",
    "import quandl"
   ]
  },
  {
   "cell_type": "code",
   "execution_count": 2,
   "metadata": {},
   "outputs": [],
   "source": [
    "# Close to Close Estimator\n",
    "def c2c_wrong(df):\n",
    "    \"\"\"Close Close estimator from Euan Sinclair's Volatility Trading\"\"\"\n",
    "    close=df['Adj_Close']\n",
    "    n=len(close)\n",
    "    return np.sqrt(1/(len(close)-1)*np.sum(np.power(close-np.mean(close),2)))"
   ]
  },
  {
   "cell_type": "code",
   "execution_count": 3,
   "metadata": {},
   "outputs": [],
   "source": [
    "def c2c(df):\n",
    "    \"\"\"Equation 5.3 in Espen Gaarder Haug's book The Complete Guide to Option Pricing Formulas\"\"\"\n",
    "    close=df['Adj_Close']\n",
    "    n=len(close)\n",
    "    return np.sqrt(1/(n-1)*np.sum(np.power(np.log(np.divide(close[1:],close[:-1])),2))-1/(n*(n-1))*np.power(np.sum(np.log(np.divide(close[1:],close[:-1]))),2))"
   ]
  },
  {
   "cell_type": "code",
   "execution_count": 4,
   "metadata": {},
   "outputs": [],
   "source": [
    "#Parkinson Estimator\n",
    "def park(df):\n",
    "    high=df['Adj_High']\n",
    "    low=df['Adj_Low']\n",
    "    return np.sqrt(1/(4*len(high)*np.log(2))*np.sum(np.power(np.log(np.divide(high,low)),2)))"
   ]
  },
  {
   "cell_type": "code",
   "execution_count": 5,
   "metadata": {},
   "outputs": [],
   "source": [
    "#Garman-Klass Estimator\n",
    "def gk(df):\n",
    "    high=df['Adj_High']\n",
    "    low=df['Adj_Low']\n",
    "    close=df['Adj_Close']\n",
    "    n=len(close)\n",
    "    return np.sqrt(1/n*np.sum(1/2*np.power(np.log(np.divide(high,low)),2))-1/n*np.sum((2*np.log(2)-1)*(np.power(np.log(np.divide(close,close-1)),2))))"
   ]
  },
  {
   "cell_type": "code",
   "execution_count": 6,
   "metadata": {},
   "outputs": [],
   "source": [
    "#Rodgers-Satchell-Yoon Estimator\n",
    "def rsy(df):\n",
    "    high=df['Adj_High']\n",
    "    low=df['Adj_Low']\n",
    "    close=df['Adj_Close']\n",
    "    open_=df['Adj_Open']\n",
    "    n=len(close)\n",
    "    return np.sqrt(1/n*np.sum(np.log(np.divide(high,close))*np.log(np.divide(high,open_))+np.log(np.divide(low,close))*np.log(np.divide(low,open_))))"
   ]
  },
  {
   "cell_type": "code",
   "execution_count": 7,
   "metadata": {},
   "outputs": [],
   "source": [
    "#Yang-Zhang Estimator\n",
    "def yz(df):\n",
    "    high=df['Adj_High']\n",
    "    low=df['Adj_Low']\n",
    "    close=df['Adj_Close']\n",
    "    open_=df['Adj_Open']\n",
    "    n=len(close)\n",
    "    k=0.34/(1+(n+1)/(n-1))\n",
    "    sig_o2=1/(n-1)*np.sum(np.power(np.log(np.divide(open_[1:],close[:-1])),2))\n",
    "    sig_c2=1/(n-1)*np.sum(np.power(np.log(np.divide(close[1:],open_[:-1])),2))\n",
    "    sig_rs2=(1/n*np.sum(np.log(np.divide(high,close))*np.log(np.divide(high,open_))+np.log(np.divide(low,close))*np.log(np.divide(low,open_))))\n",
    "    return np.sqrt(sig_o2+sig_c2+(1-k)*sig_rs2)"
   ]
  },
  {
   "cell_type": "code",
   "execution_count": 8,
   "metadata": {},
   "outputs": [],
   "source": [
    "quandl.ApiConfig.api_key = ##################"
   ]
  },
  {
   "cell_type": "code",
   "execution_count": 9,
   "metadata": {},
   "outputs": [],
   "source": [
    "df = quandl.get('EOD/HD', start_date='2016-12-28', end_date='2017-12-28')"
   ]
  },
  {
   "cell_type": "code",
   "execution_count": 10,
   "metadata": {},
   "outputs": [
    {
     "data": {
      "text/plain": [
       "0.007595636044045016"
      ]
     },
     "execution_count": 10,
     "metadata": {},
     "output_type": "execute_result"
    }
   ],
   "source": [
    "park(df)"
   ]
  },
  {
   "cell_type": "code",
   "execution_count": 11,
   "metadata": {},
   "outputs": [
    {
     "data": {
      "text/plain": [
       "0.008253980027371693"
      ]
     },
     "execution_count": 11,
     "metadata": {},
     "output_type": "execute_result"
    }
   ],
   "source": [
    "c2c(df)"
   ]
  },
  {
   "cell_type": "code",
   "execution_count": 12,
   "metadata": {},
   "outputs": [
    {
     "data": {
      "text/plain": [
       "0.007829593329408868"
      ]
     },
     "execution_count": 12,
     "metadata": {},
     "output_type": "execute_result"
    }
   ],
   "source": [
    "gk(df)"
   ]
  },
  {
   "cell_type": "code",
   "execution_count": 13,
   "metadata": {},
   "outputs": [
    {
     "data": {
      "text/plain": [
       "0.007790844720663628"
      ]
     },
     "execution_count": 13,
     "metadata": {},
     "output_type": "execute_result"
    }
   ],
   "source": [
    "rsy(df)"
   ]
  },
  {
   "cell_type": "code",
   "execution_count": 14,
   "metadata": {},
   "outputs": [
    {
     "data": {
      "text/plain": [
       "0.013910650522288003"
      ]
     },
     "execution_count": 14,
     "metadata": {},
     "output_type": "execute_result"
    }
   ],
   "source": [
    "yz(df)"
   ]
  },
  {
   "cell_type": "markdown",
   "metadata": {},
   "source": [
    "What is my error in the close to close method from Sinclair? "
   ]
  },
  {
   "cell_type": "code",
   "execution_count": 15,
   "metadata": {},
   "outputs": [
    {
     "data": {
      "text/plain": [
       "12.790607221717753"
      ]
     },
     "execution_count": 15,
     "metadata": {},
     "output_type": "execute_result"
    }
   ],
   "source": [
    "c2c_wrong(df)"
   ]
  },
  {
   "cell_type": "code",
   "execution_count": null,
   "metadata": {},
   "outputs": [],
   "source": []
  }
 ],
 "metadata": {
  "kernelspec": {
   "display_name": "Python 3",
   "language": "python",
   "name": "python3"
  },
  "language_info": {
   "codemirror_mode": {
    "name": "ipython",
    "version": 3
   },
   "file_extension": ".py",
   "mimetype": "text/x-python",
   "name": "python",
   "nbconvert_exporter": "python",
   "pygments_lexer": "ipython3",
   "version": "3.7.3"
  }
 },
 "nbformat": 4,
 "nbformat_minor": 2
}
