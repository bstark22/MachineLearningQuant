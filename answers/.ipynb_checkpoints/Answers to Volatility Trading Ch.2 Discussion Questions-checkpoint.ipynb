{
 "cells": [
  {
   "cell_type": "markdown",
   "metadata": {},
   "source": [
    "# Ben's Answers\n",
    "* What are the differences between historical volatility and implied volatility?\n",
    "  * Can instantanious historical volatility be calculated?\n",
    "* How can we evaluate our historical volatility estimators? \n",
    "* Write down the historical volatility calculations from ch. 2 \n",
    "  * What estimators can we evaluate with Quandl/yahoo data sources?\n",
    "* What are some ways sampling effects historical volatility?\n",
    "  * Consider the \n",
    "  \n",
    "  \n",
    "  \n",
    "  \n",
    "* Why is the first exit time estimator fundamentally different from the other estimators?\n",
    "  * Consider eq. (2.18)'s significance"
   ]
  },
  {
   "cell_type": "code",
   "execution_count": null,
   "metadata": {},
   "outputs": [],
   "source": []
  }
 ],
 "metadata": {
  "kernelspec": {
   "display_name": "Python 3",
   "language": "python",
   "name": "python3"
  },
  "language_info": {
   "codemirror_mode": {
    "name": "ipython",
    "version": 3
   },
   "file_extension": ".py",
   "mimetype": "text/x-python",
   "name": "python",
   "nbconvert_exporter": "python",
   "pygments_lexer": "ipython3",
   "version": "3.7.3"
  }
 },
 "nbformat": 4,
 "nbformat_minor": 2
}
